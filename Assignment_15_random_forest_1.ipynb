{
  "nbformat": 4,
  "nbformat_minor": 0,
  "metadata": {
    "colab": {
      "provenance": []
    },
    "kernelspec": {
      "name": "python3",
      "display_name": "Python 3"
    },
    "language_info": {
      "name": "python"
    }
  },
  "cells": [
    {
      "cell_type": "code",
      "source": [
        "#Random Forest\n",
        "\n",
        "#Assignment\n",
        "\n",
        "\n",
        "#About the data:\n",
        "#Let’s consider a Company dataset with around 10 variables and 400 records.\n",
        "#The attributes are as follows:\n",
        "# Sales -- Unit sales (in thousands) at each location\n",
        "# Competitor Price -- Price charged by competitor at each location\n",
        "# Income -- Community income level (in thousands of dollars)\n",
        "# Advertising -- Local advertising budget for company at each location (in thousands of dollars)\n",
        "# Population -- Population size in region (in thousands)\n",
        "# Price -- Price company charges for car seats at each site\n",
        "# Shelf Location at stores -- A factor with levels Bad, Good and Medium indicating the quality of the shelving location for the car seats at each site\n",
        "# Age -- Average age of the local population\n",
        "# Education -- Education level at each location\n",
        "# Urban -- A factor with levels No and Yes to indicate whether the store is in an urban or rural location\n",
        "# US -- A factor with levels No and Yes to indicate whether the store is in the US or not\n",
        "#The company dataset looks like this:\n",
        "\n",
        "#Problem Statement:\n",
        "#A cloth manufacturing company is interested to know about the segment or attributes causes high sale.\n",
        "#Approach - A Random Forest can be built with target variable Sales (we will first convert it in categorical variable) & all other variable will be independent in the analysis."
      ],
      "metadata": {
        "id": "rNKBw_Eazrb1"
      },
      "execution_count": null,
      "outputs": []
    },
    {
      "cell_type": "code",
      "source": [
        "!pip install matplotlib seaborn # Install necessary libraries"
      ],
      "metadata": {
        "id": "S7ISAv_DsCD_"
      },
      "execution_count": null,
      "outputs": []
    },
    {
      "cell_type": "code",
      "source": [
        "import pandas as pd\n",
        "from sklearn.ensemble import RandomForestClassifier\n",
        "from sklearn.model_selection import train_test_split, cross_val_score\n",
        "from sklearn import metrics\n",
        "import matplotlib.pyplot as plt\n",
        "import seaborn as sns\n",
        "import warnings\n",
        "warnings.filterwarnings('ignore')"
      ],
      "metadata": {
        "id": "zW_efTYHsCGm"
      },
      "execution_count": null,
      "outputs": []
    },
    {
      "cell_type": "code",
      "source": [
        "# Load the dataset\n",
        "df = pd.read_csv('/content/Company_Data..csv')"
      ],
      "metadata": {
        "id": "f_tWbRX2sCIl"
      },
      "execution_count": null,
      "outputs": []
    },
    {
      "cell_type": "code",
      "source": [
        "# Convert 'Sales' into a binary categorical variable\n",
        "threshold_value = 200\n",
        "df['Sales_Category'] = pd.cut(df['Sales'], bins=[-float('inf'), threshold_value, float('inf')], labels=['Low', 'High'])\n",
        "df = df.drop('Sales', axis=1)"
      ],
      "metadata": {
        "id": "1UakpOzxugl6"
      },
      "execution_count": null,
      "outputs": []
    },
    {
      "cell_type": "code",
      "source": [
        "# Display column names\n",
        "print(\"Column Names:\", df.columns)"
      ],
      "metadata": {
        "colab": {
          "base_uri": "https://localhost:8080/"
        },
        "id": "kL2tgQfIugoU",
        "outputId": "053c86e8-8864-40ea-efe6-5d6947a183ee"
      },
      "execution_count": null,
      "outputs": [
        {
          "output_type": "stream",
          "name": "stdout",
          "text": [
            "Column Names: Index(['CompPrice', 'Income', 'Advertising', 'Population', 'Price',\n",
            "       'ShelveLoc', 'Age', 'Education', 'Urban', 'US', 'Sales_Category'],\n",
            "      dtype='object')\n"
          ]
        }
      ]
    },
    {
      "cell_type": "code",
      "source": [
        "# Convert categorical variables to dummy/indicator variables\n",
        "df = pd.get_dummies(df, columns=['ShelveLoc', 'Urban', 'US'])"
      ],
      "metadata": {
        "id": "0Dyip33Zugqp"
      },
      "execution_count": null,
      "outputs": []
    },
    {
      "cell_type": "code",
      "source": [
        "# Split the dataset into features (X) and target variable (y)\n",
        "X = df.drop('Sales_Category', axis=1)\n",
        "y = df['Sales_Category']"
      ],
      "metadata": {
        "id": "p4GYFd2BugtD"
      },
      "execution_count": null,
      "outputs": []
    },
    {
      "cell_type": "code",
      "source": [
        "# Convert the target variable into binary (1 for 'High', 0 for 'Low')\n",
        "y_binary = pd.get_dummies(y)['High']"
      ],
      "metadata": {
        "id": "LJYqOO7Hugvc"
      },
      "execution_count": null,
      "outputs": []
    },
    {
      "cell_type": "code",
      "source": [
        "# Split the data into training and testing sets\n",
        "X_train, X_test, y_train, y_test = train_test_split(X, y_binary, test_size=0.2, random_state=42)"
      ],
      "metadata": {
        "id": "Rmb7h5CYugx7"
      },
      "execution_count": null,
      "outputs": []
    },
    {
      "cell_type": "code",
      "source": [
        "# Build Random Forest models with entropy and Gini criteria\n",
        "rf_entropy_model = RandomForestClassifier(n_estimators=100, criterion='entropy', random_state=42)\n",
        "rf_gini_model = RandomForestClassifier(n_estimators=100, criterion='gini', random_state=42)"
      ],
      "metadata": {
        "id": "RFSWf_8yvBKN"
      },
      "execution_count": null,
      "outputs": []
    },
    {
      "cell_type": "code",
      "source": [
        "# Train the models\n",
        "rf_entropy_model.fit(X_train, y_train)\n",
        "rf_gini_model.fit(X_train, y_train)"
      ],
      "metadata": {
        "colab": {
          "base_uri": "https://localhost:8080/",
          "height": 74
        },
        "id": "kh6kRn95vBMY",
        "outputId": "f226fc86-d9d2-4484-86f9-65ffe03c6776"
      },
      "execution_count": null,
      "outputs": [
        {
          "output_type": "execute_result",
          "data": {
            "text/plain": [
              "RandomForestClassifier(random_state=42)"
            ],
            "text/html": [
              "<style>#sk-container-id-1 {color: black;background-color: white;}#sk-container-id-1 pre{padding: 0;}#sk-container-id-1 div.sk-toggleable {background-color: white;}#sk-container-id-1 label.sk-toggleable__label {cursor: pointer;display: block;width: 100%;margin-bottom: 0;padding: 0.3em;box-sizing: border-box;text-align: center;}#sk-container-id-1 label.sk-toggleable__label-arrow:before {content: \"▸\";float: left;margin-right: 0.25em;color: #696969;}#sk-container-id-1 label.sk-toggleable__label-arrow:hover:before {color: black;}#sk-container-id-1 div.sk-estimator:hover label.sk-toggleable__label-arrow:before {color: black;}#sk-container-id-1 div.sk-toggleable__content {max-height: 0;max-width: 0;overflow: hidden;text-align: left;background-color: #f0f8ff;}#sk-container-id-1 div.sk-toggleable__content pre {margin: 0.2em;color: black;border-radius: 0.25em;background-color: #f0f8ff;}#sk-container-id-1 input.sk-toggleable__control:checked~div.sk-toggleable__content {max-height: 200px;max-width: 100%;overflow: auto;}#sk-container-id-1 input.sk-toggleable__control:checked~label.sk-toggleable__label-arrow:before {content: \"▾\";}#sk-container-id-1 div.sk-estimator input.sk-toggleable__control:checked~label.sk-toggleable__label {background-color: #d4ebff;}#sk-container-id-1 div.sk-label input.sk-toggleable__control:checked~label.sk-toggleable__label {background-color: #d4ebff;}#sk-container-id-1 input.sk-hidden--visually {border: 0;clip: rect(1px 1px 1px 1px);clip: rect(1px, 1px, 1px, 1px);height: 1px;margin: -1px;overflow: hidden;padding: 0;position: absolute;width: 1px;}#sk-container-id-1 div.sk-estimator {font-family: monospace;background-color: #f0f8ff;border: 1px dotted black;border-radius: 0.25em;box-sizing: border-box;margin-bottom: 0.5em;}#sk-container-id-1 div.sk-estimator:hover {background-color: #d4ebff;}#sk-container-id-1 div.sk-parallel-item::after {content: \"\";width: 100%;border-bottom: 1px solid gray;flex-grow: 1;}#sk-container-id-1 div.sk-label:hover label.sk-toggleable__label {background-color: #d4ebff;}#sk-container-id-1 div.sk-serial::before {content: \"\";position: absolute;border-left: 1px solid gray;box-sizing: border-box;top: 0;bottom: 0;left: 50%;z-index: 0;}#sk-container-id-1 div.sk-serial {display: flex;flex-direction: column;align-items: center;background-color: white;padding-right: 0.2em;padding-left: 0.2em;position: relative;}#sk-container-id-1 div.sk-item {position: relative;z-index: 1;}#sk-container-id-1 div.sk-parallel {display: flex;align-items: stretch;justify-content: center;background-color: white;position: relative;}#sk-container-id-1 div.sk-item::before, #sk-container-id-1 div.sk-parallel-item::before {content: \"\";position: absolute;border-left: 1px solid gray;box-sizing: border-box;top: 0;bottom: 0;left: 50%;z-index: -1;}#sk-container-id-1 div.sk-parallel-item {display: flex;flex-direction: column;z-index: 1;position: relative;background-color: white;}#sk-container-id-1 div.sk-parallel-item:first-child::after {align-self: flex-end;width: 50%;}#sk-container-id-1 div.sk-parallel-item:last-child::after {align-self: flex-start;width: 50%;}#sk-container-id-1 div.sk-parallel-item:only-child::after {width: 0;}#sk-container-id-1 div.sk-dashed-wrapped {border: 1px dashed gray;margin: 0 0.4em 0.5em 0.4em;box-sizing: border-box;padding-bottom: 0.4em;background-color: white;}#sk-container-id-1 div.sk-label label {font-family: monospace;font-weight: bold;display: inline-block;line-height: 1.2em;}#sk-container-id-1 div.sk-label-container {text-align: center;}#sk-container-id-1 div.sk-container {/* jupyter's `normalize.less` sets `[hidden] { display: none; }` but bootstrap.min.css set `[hidden] { display: none !important; }` so we also need the `!important` here to be able to override the default hidden behavior on the sphinx rendered scikit-learn.org. See: https://github.com/scikit-learn/scikit-learn/issues/21755 */display: inline-block !important;position: relative;}#sk-container-id-1 div.sk-text-repr-fallback {display: none;}</style><div id=\"sk-container-id-1\" class=\"sk-top-container\"><div class=\"sk-text-repr-fallback\"><pre>RandomForestClassifier(random_state=42)</pre><b>In a Jupyter environment, please rerun this cell to show the HTML representation or trust the notebook. <br />On GitHub, the HTML representation is unable to render, please try loading this page with nbviewer.org.</b></div><div class=\"sk-container\" hidden><div class=\"sk-item\"><div class=\"sk-estimator sk-toggleable\"><input class=\"sk-toggleable__control sk-hidden--visually\" id=\"sk-estimator-id-1\" type=\"checkbox\" checked><label for=\"sk-estimator-id-1\" class=\"sk-toggleable__label sk-toggleable__label-arrow\">RandomForestClassifier</label><div class=\"sk-toggleable__content\"><pre>RandomForestClassifier(random_state=42)</pre></div></div></div></div></div>"
            ]
          },
          "metadata": {},
          "execution_count": 25
        }
      ]
    },
    {
      "cell_type": "code",
      "source": [
        "# Make predictions on the test set\n",
        "y_pred_entropy = rf_entropy_model.predict(X_test)\n",
        "y_pred_gini = rf_gini_model.predict(X_test)"
      ],
      "metadata": {
        "id": "AxTFaNPtvBP4"
      },
      "execution_count": null,
      "outputs": []
    },
    {
      "cell_type": "code",
      "source": [
        "# Evaluate the models\n",
        "accuracy_entropy = metrics.accuracy_score(y_test, y_pred_entropy)\n",
        "accuracy_gini = metrics.accuracy_score(y_test, y_pred_gini)\n",
        "\n",
        "print(f\"Accuracy (Entropy): {accuracy_entropy}\")\n",
        "print(f\"Accuracy (Gini): {accuracy_gini}\")"
      ],
      "metadata": {
        "colab": {
          "base_uri": "https://localhost:8080/"
        },
        "id": "jfeEpOZgug0R",
        "outputId": "40d44f57-d3fb-42a5-f7b4-c93a3784c53f"
      },
      "execution_count": null,
      "outputs": [
        {
          "output_type": "stream",
          "name": "stdout",
          "text": [
            "Accuracy (Entropy): 1.0\n",
            "Accuracy (Gini): 1.0\n"
          ]
        }
      ]
    },
    {
      "cell_type": "code",
      "source": [
        "# Feature importance for both models\n",
        "feature_importance_entropy = pd.Series(rf_entropy_model.feature_importances_, index=X.columns)\n",
        "feature_importance_gini = pd.Series(rf_gini_model.feature_importances_, index=X.columns)"
      ],
      "metadata": {
        "id": "cHMnloX1ug2p"
      },
      "execution_count": null,
      "outputs": []
    },
    {
      "cell_type": "code",
      "source": [
        "# Visualize feature importance for both models\n",
        "fig, axes = plt.subplots(nrows=1, ncols=2, figsize=(18, 6))"
      ],
      "metadata": {
        "colab": {
          "base_uri": "https://localhost:8080/",
          "height": 317
        },
        "id": "SPP7SRU5vWce",
        "outputId": "6f8e5560-8bc2-4f32-da59-7c9f41f7bf17"
      },
      "execution_count": null,
      "outputs": [
        {
          "output_type": "display_data",
          "data": {
            "text/plain": [
              "<Figure size 1800x600 with 2 Axes>"
            ],
            "image/png": "[encoded data removed]"
          },
          "metadata": {}
        }
      ]
    },
    {
      "cell_type": "code",
      "source": [
        "# Entropy model\n",
        "sns.barplot(x=feature_importance_entropy, y=feature_importance_entropy.index, palette='viridis', ax=axes[0])\n",
        "axes[0].set_title('Random Forest (Entropy) Feature Importance')\n",
        "axes[0].set_xlabel('Feature Importance Score')\n",
        "axes[0].set_ylabel('Features')"
      ],
      "metadata": {
        "colab": {
          "base_uri": "https://localhost:8080/"
        },
        "id": "ZWB9x5D-vWeV",
        "outputId": "fd39d405-d955-4bb1-9136-f7ddfccf9113"
      },
      "execution_count": null,
      "outputs": [
        {
          "output_type": "execute_result",
          "data": {
            "text/plain": [
              "Text(4.444444444444452, 0.5, 'Features')"
            ]
          },
          "metadata": {},
          "execution_count": 30
        }
      ]
    },
    {
      "cell_type": "code",
      "source": [
        "# Gini model\n",
        "sns.barplot(x=feature_importance_gini, y=feature_importance_gini.index, palette='viridis', ax=axes[1])\n",
        "axes[1].set_title('Random Forest (Gini) Feature Importance')\n",
        "axes[1].set_xlabel('Feature Importance Score')\n",
        "axes[1].set_ylabel('Features')\n",
        "\n",
        "plt.tight_layout()\n",
        "plt.show()"
      ],
      "metadata": {
        "colab": {
          "base_uri": "https://localhost:8080/",
          "height": 34
        },
        "id": "SUytU4YYvWiA",
        "outputId": "d4bb146f-fdec-4f70-efbe-533a0e7f9274"
      },
      "execution_count": null,
      "outputs": [
        {
          "output_type": "display_data",
          "data": {
            "text/plain": [
              "<Figure size 640x480 with 0 Axes>"
            ]
          },
          "metadata": {}
        }
      ]
    },
    {
      "cell_type": "code",
      "source": [
        "# Apply K-fold cross-validation\n",
        "k_fold_scores_entropy = cross_val_score(rf_entropy_model, X, y_binary, cv=5, scoring='accuracy')\n",
        "k_fold_scores_gini = cross_val_score(rf_gini_model, X, y_binary, cv=5, scoring='accuracy')\n",
        "\n",
        "print(f\"K-Fold Cross-Validation Scores (Entropy): {k_fold_scores_entropy}\")\n",
        "print(f\"Mean Accuracy (Entropy): {k_fold_scores_entropy.mean()}\")\n",
        "\n",
        "print(f\"K-Fold Cross-Validation Scores (Gini): {k_fold_scores_gini}\")\n",
        "print(f\"Mean Accuracy (Gini): {k_fold_scores_gini.mean()}\")"
      ],
      "metadata": {
        "colab": {
          "base_uri": "https://localhost:8080/"
        },
        "id": "lxwi5oDaug4c",
        "outputId": "17870508-308e-4224-9078-cfce3c74e0be"
      },
      "execution_count": null,
      "outputs": [
        {
          "output_type": "stream",
          "name": "stdout",
          "text": [
            "K-Fold Cross-Validation Scores (Entropy): [1. 1. 1. 1. 1.]\n",
            "Mean Accuracy (Entropy): 1.0\n",
            "K-Fold Cross-Validation Scores (Gini): [1. 1. 1. 1. 1.]\n",
            "Mean Accuracy (Gini): 1.0\n"
          ]
        }
      ]
    },
    {
      "cell_type": "code",
      "source": [
        "# Visualize Confusion Matrix for Entropy Model\n",
        "plt.figure(figsize=(8, 6))\n",
        "sns.heatmap(metrics.confusion_matrix(y_test, y_pred_entropy), annot=True, fmt='d', cmap='Blues')\n",
        "plt.title('Confusion Matrix (Entropy Model)')\n",
        "plt.xlabel('Predicted Label')\n",
        "plt.ylabel('True Label')\n",
        "plt.show()"
      ],
      "metadata": {
        "colab": {
          "base_uri": "https://localhost:8080/",
          "height": 564
        },
        "id": "IikKWg7Nug75",
        "outputId": "69b4a955-bcb1-4921-f4d3-147353a5fffa"
      },
      "execution_count": null,
      "outputs": [
        {
          "output_type": "display_data",
          "data": {
            "text/plain": [
              "<Figure size 800x600 with 2 Axes>"
            ],
            "image/png": "[encoded data removed]"
          },
          "metadata": {}
        }
      ]
    },
    {
      "cell_type": "code",
      "source": [
        "# Visualize Confusion Matrix for Gini Model\n",
        "plt.figure(figsize=(8, 6))\n",
        "sns.heatmap(metrics.confusion_matrix(y_test, y_pred_gini), annot=True, fmt='d', cmap='Blues')\n",
        "plt.title('Confusion Matrix (Gini Model)')\n",
        "plt.xlabel('Predicted Label')\n",
        "plt.ylabel('True Label')\n",
        "plt.show()"
      ],
      "metadata": {
        "colab": {
          "base_uri": "https://localhost:8080/",
          "height": 564
        },
        "id": "AZcjZaxYtt7p",
        "outputId": "c44ca164-51b9-46f8-a3c9-67386b7df731"
      },
      "execution_count": null,
      "outputs": [
        {
          "output_type": "display_data",
          "data": {
            "text/plain": [
              "<Figure size 800x600 with 2 Axes>"
            ],
            "image/png": "[encoded data removed]"
          },
          "metadata": {}
        }
      ]
    },
    {
      "cell_type": "code",
      "source": [],
      "metadata": {
        "id": "_taBXjlJtt_B"
      },
      "execution_count": null,
      "outputs": []
    },
    {
      "cell_type": "code",
      "source": [],
      "metadata": {
        "id": "RpVS4lK-yN62"
      },
      "execution_count": null,
      "outputs": []
    }
  ]
}